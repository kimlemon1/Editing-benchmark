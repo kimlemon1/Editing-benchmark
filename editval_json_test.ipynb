{
 "cells": [
  {
   "cell_type": "code",
   "execution_count": 61,
   "metadata": {
    "collapsed": true
   },
   "outputs": [],
   "source": [
    "%matplotlib inline\n",
    "import sys\n",
    "import os\n",
    "sys.path.append('/home/kihyun/data/projects/kihyun/Editing-benchmark/cocoapi/PythonAPI')\n",
    "from pycocotools.coco import COCO\n",
    "import numpy as np\n",
    "import skimage.io as io\n",
    "import matplotlib.pyplot as plt\n",
    "import matplotlib.image as mpimg\n",
    "import matplotlib.patches as patches\n",
    "import pylab\n",
    "import json\n",
    "pylab.rcParams['figure.figsize'] = (8.0, 10.0)"
   ]
  },
  {
   "cell_type": "code",
   "execution_count": 50,
   "metadata": {
    "collapsed": true
   },
   "outputs": [],
   "source": [
    "dataDir='/home/kihyun/data/dataset/COCO2017'\n",
    "dataType='train2017'\n",
    "annFile='{}/annotations/instances_{}.json'.format(dataDir,dataType)\n",
    "json_dir = '/home/eugene/data/projects/eugene/Editing-benchmark/object.json'\n",
    "Annotation = True # Annotation mask를 이미지에 표시할지 여부\n",
    "save_dir = './editval_json_test/{}'.format(dataType) # 프롬프트 저장 위치\n",
    "# save_img = True\n",
    "img_num = 30"
   ]
  },
  {
   "cell_type": "code",
   "execution_count": 43,
   "metadata": {},
   "outputs": [
    {
     "name": "stdout",
     "output_type": "stream",
     "text": [
      "loading annotations into memory...\n",
      "Done (t=18.12s)\n",
      "creating index...\n",
      "index created!\n"
     ]
    }
   ],
   "source": [
    "# initialize COCO api for instance annotations\n",
    "# annotation file을 읽어서 COCO object를 생성\n",
    "coco_all=COCO(annFile)"
   ]
  },
  {
   "cell_type": "code",
   "execution_count": 44,
   "metadata": {},
   "outputs": [],
   "source": [
    "with open(json_dir, 'r') as file:\n",
    "    coco_find=json.load(file)"
   ]
  },
  {
   "cell_type": "code",
   "execution_count": 47,
   "metadata": {},
   "outputs": [
    {
     "data": {
      "text/plain": [
       "['bench',\n",
       " 'pizza',\n",
       " 'cup',\n",
       " 'dog',\n",
       " 'stop_sign',\n",
       " 'sink',\n",
       " 'person',\n",
       " 'backpack',\n",
       " 'handbag',\n",
       " 'airplane',\n",
       " 'boat',\n",
       " 'bicycle',\n",
       " 'couch',\n",
       " 'chair',\n",
       " 'donut',\n",
       " 'car',\n",
       " 'apple',\n",
       " 'cat',\n",
       " 'potted_plant']"
      ]
     },
     "execution_count": 47,
     "metadata": {},
     "output_type": "execute_result"
    }
   ],
   "source": [
    "catnms = list(coco_find.keys())\n",
    "catnms"
   ]
  },
  {
   "cell_type": "code",
   "execution_count": 58,
   "metadata": {},
   "outputs": [],
   "source": [
    "def img_show(coco, imgId, mask=False, catnms=None, save_dir=save_dir):\n",
    "    img = coco.loadImgs(imgId)[0]\n",
    "    I = io.imread('%s/images/%s/%s'%(dataDir,dataType,img['file_name']))\n",
    "    #I = io.imread(img['coco_url'])\n",
    "    plt.axis('off')\n",
    "    plt.imshow(I)\n",
    "    if mask:\n",
    "        catIds = coco.getCatIds(catNms=catnms)\n",
    "        annIds = coco.getAnnIds(imgIds=img['id'], catIds=catIds, iscrowd=None)\n",
    "        anns = coco.loadAnns(annIds)\n",
    "        coco.showAnns(anns)\n",
    "    # save image\n",
    "    save_name = f'{imgId}.jpg'\n",
    "    img_path = os.path.join(save_dir, save_name)\n",
    "    if not os.path.exists(save_dir):\n",
    "        os.makedirs(save_dir)\n",
    "    plt.savefig(img_path)\n",
    "    plt.clf()\n",
    "    \n",
    "def multi_img_show(coco, imgId_ls, mask=False, catnms=None, save_dir=save_dir):\n",
    "    for imgId in imgId_ls:\n",
    "        img_show(coco, imgId, mask, catnms, save_dir=save_dir)\n",
    "        \n",
    "def save_edit_prompts(catnm, imageId, json_file, save_dir):\n",
    "    # save edit prompts in prompt_save_dir\n",
    "    file_name = f'edit_prompts_{catnm}_{imageId}.txt'\n",
    "    txt_path = os.path.join(save_dir, file_name)\n",
    "    ff = open(txt_path, 'w')\n",
    "    for edit_task in json_file[catnm][imageId].keys():\n",
    "        ff.write(f'{edit_task}\\n')\n",
    "        for subtask1 in json_file[catnm][imageId][edit_task][\"from\"]:\n",
    "            if subtask1==\"\":\n",
    "                for subtask2 in json_file[catnm][imageId][edit_task][\"to\"]:\n",
    "                    ff.write(f'from {catnm} to {subtask2}\\n')\n",
    "            else:\n",
    "                for subtask2 in json_file[catnm][imageId][edit_task][\"to\"]:\n",
    "                    ff.write(f'from {subtask1} to {subtask2}\\n')\n",
    "        ff.write('---------------------\\n')\n",
    "    ff.close()"
   ]
  },
  {
   "cell_type": "code",
   "execution_count": 59,
   "metadata": {},
   "outputs": [
    {
     "name": "stdout",
     "output_type": "stream",
     "text": [
      "{'to', 'from'}\n"
     ]
    }
   ],
   "source": [
    "# preposition 종류\n",
    "position_set = set()\n",
    "\n",
    "for class_name in catnms:\n",
    "    for imageId in coco_find[class_name].keys():\n",
    "        for edit_task in coco_find[class_name][imageId].keys():\n",
    "            positions = coco_find[class_name][imageId][edit_task]\n",
    "            for p in positions:\n",
    "                position_set.add(p)\n",
    "print(position_set)"
   ]
  },
  {
   "cell_type": "code",
   "execution_count": 60,
   "metadata": {},
   "outputs": [
    {
     "data": {
      "text/plain": [
       "<Figure size 800x1000 with 0 Axes>"
      ]
     },
     "metadata": {},
     "output_type": "display_data"
    }
   ],
   "source": [
    "### image, prompt 따로 저장하는 코드\n",
    "\n",
    "for class_name in catnms:\n",
    "    imageIds = coco_find[class_name].keys()\n",
    "    class_dir = os.path.join(save_dir, class_name)\n",
    "    os.makedirs(class_dir, exist_ok=True)\n",
    "    multi_img_show(coco_all, list(map(int, imageIds)), class_name, save_dir=class_dir)\n",
    "    for imageId in imageIds:\n",
    "        save_edit_prompts(class_name, imageId, coco_find, class_dir)"
   ]
  },
  {
   "cell_type": "code",
   "execution_count": 75,
   "metadata": {},
   "outputs": [],
   "source": [
    "### image, prompt를 한 이미지에 같이 저장하는 코드\n",
    "\n",
    "def img_with_prompt(coco, imgId, json_file, catnms, save_dir):\n",
    "    img = coco.loadImgs(int(imgId))[0]\n",
    "    # img_path = os.path.join('images', img['file_name'])  # 실제 이미지 경로를 맞게 수정하세요.\n",
    "    # I = io.imread(img_path)\n",
    "    I = io.imread('%s/images/%s/%s'%(dataDir,dataType,img['file_name']))\n",
    "    \n",
    "    # Prepare text for prompts\n",
    "    prompt_text = \"\"\n",
    "    for edit_task in json_file[catnms][imgId].keys():\n",
    "        prompt_text += f'{edit_task}\\n'\n",
    "        for subtask1 in json_file[catnms][imgId][edit_task][\"from\"]:\n",
    "            if subtask1 == \"\":\n",
    "                for subtask2 in json_file[catnms][imgId][edit_task][\"to\"]:\n",
    "                    prompt_text += f'from {catnms} to {subtask2}\\n'\n",
    "            else:\n",
    "                for subtask2 in json_file[catnms][imgId][edit_task][\"to\"]:\n",
    "                    prompt_text += f'from {subtask1} to {subtask2}\\n'\n",
    "        prompt_text += '---------------------\\n'\n",
    "\n",
    "    # Create figure and axis\n",
    "    fig, ax = plt.subplots(figsize=(10, 10))\n",
    "\n",
    "    # Display the image\n",
    "    ax.imshow(I)\n",
    "    ax.axis('off')  # Hide axis\n",
    "    \n",
    "    # Add prompt text below the image\n",
    "    plt.figtext(1.0, 0.9, prompt_text, ha='left', va='top', fontsize=10, bbox={\"facecolor\": \"white\", \"alpha\": 0.8, \"pad\": 10})\n",
    "\n",
    "    # Save the combined image and prompts\n",
    "    save_name = f'{imgId}_with_prompt.jpg'\n",
    "    img_save_path = os.path.join(save_dir, save_name)\n",
    "    if not os.path.exists(save_dir):\n",
    "        os.makedirs(save_dir)\n",
    "    plt.savefig(img_save_path, bbox_inches='tight', pad_inches=0.2)\n",
    "    plt.close()\n",
    "\n",
    "def multi_img_with_prompt(coco, imgId_ls, json_file, catnms, save_dir):\n",
    "    for imgId in imgId_ls:\n",
    "        img_with_prompt(coco, imgId, json_file, catnms, save_dir)\n",
    "\n",
    "# Example usage\n",
    "# coco_find = json.load(open('path_to_your_json_file.json', 'r'))  # Load JSON file\n",
    "# catnms = ['bench']  # Example category names\n",
    "# save_dir = 'path_to_save_directory'\n",
    "\n",
    "for class_name in catnms:\n",
    "    imageIds = list(coco_find[class_name].keys())\n",
    "    class_dir = os.path.join(save_dir, class_name)\n",
    "    multi_img_with_prompt(coco_all, imageIds, coco_find, class_name, save_dir=class_dir)"
   ]
  }
 ],
 "metadata": {
  "kernelspec": {
   "display_name": "coco_test",
   "language": "python",
   "name": "coco_test"
  },
  "language_info": {
   "codemirror_mode": {
    "name": "ipython",
    "version": 3
   },
   "file_extension": ".py",
   "mimetype": "text/x-python",
   "name": "python",
   "nbconvert_exporter": "python",
   "pygments_lexer": "ipython3",
   "version": "3.8.19"
  }
 },
 "nbformat": 4,
 "nbformat_minor": 1
}
